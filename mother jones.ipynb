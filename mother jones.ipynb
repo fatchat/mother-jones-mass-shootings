{
 "cells": [
  {
   "cell_type": "code",
   "execution_count": 7,
   "metadata": {
    "collapsed": false
   },
   "outputs": [],
   "source": [
    "import sys\n",
    "sys.path.insert(1,'/Library/Python/2.7/site-packages')\n",
    "import argparse\n",
    "import httplib2\n",
    "import json\n",
    "import oauth2client,oauth2client.file,oauth2client.tools\n",
    "import gspread\n",
    "import pandas as pd"
   ]
  },
  {
   "cell_type": "code",
   "execution_count": 8,
   "metadata": {
    "collapsed": true
   },
   "outputs": [],
   "source": [
    "CLIENT_SECRET_FILE = '/Users/fatchat/cloud-credentials/gapi.json'\n",
    "APPLICATION_NAME = 'API Project'\n",
    "CREDENTIAL_PATH='/Users/fatchat/cloud-credentials/gapi-cred.json'"
   ]
  },
  {
   "cell_type": "code",
   "execution_count": 9,
   "metadata": {
    "collapsed": true
   },
   "outputs": [],
   "source": [
    "def get_credentials(scopes,force=False):\n",
    "    store = oauth2client.file.Storage(CREDENTIAL_PATH)\n",
    "    credentials = store.get()\n",
    "    if credentials is None or credentials.access_token_expired or force:\n",
    "        flow = oauth2client.client.flow_from_clientsecrets(CLIENT_SECRET_FILE, scopes)\n",
    "        flow.user_agent = APPLICATION_NAME\n",
    "        flags=argparse.ArgumentParser(parents=[oauth2client.tools.argparser]).parse_args(['--noauth_local_webserver'])\n",
    "        credentials = oauth2client.tools.run_flow(flow, store, flags)\n",
    "    return credentials"
   ]
  },
  {
   "cell_type": "code",
   "execution_count": 11,
   "metadata": {
    "collapsed": false
   },
   "outputs": [],
   "source": [
    "creds=get_credentials(u'https://spreadsheets.google.com/feeds')"
   ]
  },
  {
   "cell_type": "code",
   "execution_count": 28,
   "metadata": {
    "collapsed": false
   },
   "outputs": [],
   "source": [
    "gc=gspread.authorize(creds)\n",
    "ssheet=gc.open_by_key('1XV4mZi3gYDgwx5PrLwqqHTUlHkwkV-6uy_yeJh3X46o')\n",
    "wsheet=ssheet.worksheet('US mass shootings')"
   ]
  },
  {
   "cell_type": "code",
   "execution_count": 29,
   "metadata": {
    "collapsed": false
   },
   "outputs": [
    {
     "data": {
      "text/plain": [
       "(107, 26)"
      ]
     },
     "execution_count": 29,
     "metadata": {},
     "output_type": "execute_result"
    }
   ],
   "source": [
    "wsheet.row_count,wsheet.col_count"
   ]
  },
  {
   "cell_type": "code",
   "execution_count": 67,
   "metadata": {
    "collapsed": false
   },
   "outputs": [],
   "source": [
    "state_abbreviations=\"\"\"\n",
    "State\tAbbreviation\tPostal Code\n",
    "Alabama\tAla.\tAL\n",
    "Alaska\tAlaska\tAK\n",
    "American Samoa\t \tAS\n",
    "Arizona\tAriz.\tAZ\n",
    "Arkansas\tArk.\tAR\n",
    "California\tCalif.\tCA\n",
    "Colorado\tColo.\tCO\n",
    "Connecticut\tConn.\tCT\n",
    "Delaware\tDel.\tDE\n",
    "Dist. of Columbia\tD.C.\tDC\n",
    "Florida\tFla.\tFL\n",
    "Georgia\tGa.\tGA\n",
    "Guam\tGuam\tGU\n",
    "Hawaii\tHawaii\tHI\n",
    "Idaho\tIdaho\tID\n",
    "Illinois\tIll.\tIL\n",
    "Indiana\tInd.\tIN\n",
    "Iowa\tIowa\tIA\n",
    "Kansas\tKans.\tKS\n",
    "Kentucky\tKy.\tKY\n",
    "Louisiana\tLa.\tLA\n",
    "Maine\tMaine\tME\n",
    "Maryland\tMd.\tMD\n",
    "Marshall Islands\t \tMH\n",
    "Massachusetts\tMass.\tMA\n",
    "Michigan\tMich.\tMI\n",
    "Micronesia\t \tFM\n",
    "Minnesota\tMinn.\tMN\n",
    "Mississippi\tMiss.\tMS\n",
    "Missouri\tMo.\tMO\n",
    "Montana\tMont.\tMT\n",
    "Nebraska\tNebr.\tNE\n",
    "Nevada\tNev.\tNV\n",
    "New Hampshire\tN.H.\tNH\n",
    "New Jersey\tN.J.\tNJ\n",
    "New Mexico\tN.M.\tNM\n",
    "New York\tN.Y.\tNY\n",
    "North Carolina\tN.C.\tNC\n",
    "North Dakota\tN.D.\tND\n",
    "Northern Marianas\t \tMP\n",
    "Ohio\tOhio\tOH\n",
    "Oklahoma\tOkla.\tOK\n",
    "Oregon\tOre.\tOR\n",
    "Palau\t \tPW\n",
    "Pennsylvania\tPa.\tPA\n",
    "Puerto Rico\tP.R.\tPR\n",
    "Rhode Island\tR.I.\tRI\n",
    "South Carolina\tS.C.\tSC\n",
    "South Dakota\tS.D.\tSD\n",
    "Tennessee\tTenn.\tTN\n",
    "Texas\tTex.\tTX\n",
    "Utah\tUtah\tUT\n",
    "Vermont\tVt.\tVT\n",
    "Virginia\tVa.\tVAM\n",
    "Virgin Islands\tV.I.\tVI\n",
    "Washington\tWash.\tWA\n",
    "West Virginia\tW.Va.\tWV\n",
    "Wisconsin\tWis.\tWI\n",
    "Wyoming\tWyo.\tWY\n",
    "\"\"\"\n",
    "\n",
    "state_lookup_map={}\n",
    "for s in state_abbreviations.split('\\n'):\n",
    "    if s.strip()=='':\n",
    "        continue\n",
    "    long_name,short_name,state_code=map(lambda x: x.strip().upper(),s.strip().split('\\t'))\n",
    "    state_lookup_map[long_name]=state_code\n",
    "    state_lookup_map[short_name]=state_code\n",
    "    state_lookup_map[state_code]=state_code"
   ]
  },
  {
   "cell_type": "code",
   "execution_count": 31,
   "metadata": {
    "collapsed": true
   },
   "outputs": [],
   "source": [
    "raw_df=pd.DataFrame([wsheet.row_values(row_num) for row_num in range(1,wsheet.row_count+1)])\n",
    "df=raw_df\n",
    "df.columns=df.ix[0]\n",
    "df=df.ix[1:]\n",
    "df=df.drop_duplicates()[:-1]"
   ]
  },
  {
   "cell_type": "code",
   "execution_count": 70,
   "metadata": {
    "collapsed": true
   },
   "outputs": [],
   "source": [
    "def extract_state(geo):\n",
    "    if type(geo)==str and geo.find(',') > -1:\n",
    "        city,state=geo.split(',')\n",
    "        return state_lookup_map[state.strip().upper()]\n",
    "    return geo"
   ]
  },
  {
   "cell_type": "code",
   "execution_count": 72,
   "metadata": {
    "collapsed": false
   },
   "outputs": [],
   "source": [
    "df['state']=df.Location.apply(extract_state)"
   ]
  },
  {
   "cell_type": "code",
   "execution_count": 75,
   "metadata": {
    "collapsed": false
   },
   "outputs": [
    {
     "data": {
      "text/plain": [
       "1     Two assault rifles and two semi-automatic pist...\n",
       "2     Five pistols, one rifle, five magazines of amm...\n",
       "3             2 assault rifles; semiautomatic handgun\\n\n",
       "4                                               Handgun\n",
       "5                                               Handgun\n",
       "6                      Two handguns and a butcher knife\n",
       "7     Sawed-off shotgun, 2 boxes of shells; also a ....\n",
       "8                            9mm semi-automatic handgun\n",
       "9     Assault rifle, high capacity magazines, antiqu...\n",
       "10                       Semiautomatic handgun, shotgun\n",
       "11                                              Shotgun\n",
       "12    Two semiautomatic handguns, one rifle (assault...\n",
       "13                            One semiautomatic handgun\n",
       "14                            One semiautomatic handgun\n",
       "15    Two semiautomatic handguns, one rifle (assault...\n",
       "...\n",
       "60                            One semiautomatic handgun\n",
       "61                               One rifle, one shotgun\n",
       "62                                            One rifle\n",
       "63                                         One revolver\n",
       "64                           Two semiautomatic handguns\n",
       "65                              One rifle, one revolver\n",
       "66    Three semiautomatic handguns (two assault), on...\n",
       "67       One semiautomatic handgun, one rifle (assault)\n",
       "68    Two semiautomatic handguns, one rifle, two rev...\n",
       "69                 One rifle, one revolver, one shotgun\n",
       "70                         Three semiautomatic handguns\n",
       "71    One semiautomatic handgun, one rifle (assault)...\n",
       "72                            One semiautomatic handgun\n",
       "73                                          One shotgun\n",
       "74                                                 None\n",
       "Name: Type of weapons, Length: 74, dtype: object"
      ]
     },
     "execution_count": 75,
     "metadata": {},
     "output_type": "execute_result"
    }
   ],
   "source": [
    "df['Type of weapons']"
   ]
  },
  {
   "cell_type": "code",
   "execution_count": null,
   "metadata": {
    "collapsed": true
   },
   "outputs": [],
   "source": []
  }
 ],
 "metadata": {
  "kernelspec": {
   "display_name": "Python 2",
   "language": "python",
   "name": "python2"
  },
  "language_info": {
   "codemirror_mode": {
    "name": "ipython",
    "version": 2
   },
   "file_extension": ".py",
   "mimetype": "text/x-python",
   "name": "python",
   "nbconvert_exporter": "python",
   "pygments_lexer": "ipython2",
   "version": "2.7.10"
  }
 },
 "nbformat": 4,
 "nbformat_minor": 0
}
